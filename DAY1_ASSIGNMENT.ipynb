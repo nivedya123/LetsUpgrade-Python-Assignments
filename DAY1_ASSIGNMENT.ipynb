{
 "cells": [
  {
   "cell_type": "code",
   "execution_count": 6,
   "metadata": {},
   "outputs": [],
   "source": [
    "#Ques1:List and its default functions\n",
    "lst=[53,12,50,40]\n",
    "#1.len(list):gives the total length of the list\n",
    "len(lst)\n",
    "#2.max(list):Returns item from the list with max value\n",
    "max(lst)\n",
    "#3.min(list):Returns item from the list with max value\n",
    "min(lst)\n",
    "#4.append(obj):appends object obj to list\n",
    "lst.append(70)\n",
    "#5.remove(element):it only remove one occurrence\n",
    "lst.remove(12)\n"
   ]
  },
  {
   "cell_type": "code",
   "execution_count": 19,
   "metadata": {},
   "outputs": [
    {
     "data": {
      "text/plain": [
       "'IBM'"
      ]
     },
     "execution_count": 19,
     "metadata": {},
     "output_type": "execute_result"
    }
   ],
   "source": [
    "#ques2:Dictionary and its default functions\n",
    "D1={\"I\" : \"IBM\" ,\"D\" : \"DELL\",20.5:\"EMC2\"}\n",
    "#1)D1.copy():Returns a shallow copy of the dictionay D1\n",
    "D1.copy()\n",
    "#2)D1.key():Returns a list of dictionary D1's keys\n",
    "D1.keys()\n",
    "#3)D1.items:Returns a list of D1's (key,value)tuple pairs\n",
    "D1.items()\n",
    "#4)D1.values:Returns a list of dictionary D1's values\n",
    "D1.values()\n",
    "#5)D1.get():Returns the values in particular key\n",
    "D1.get(\"I\")"
   ]
  },
  {
   "cell_type": "code",
   "execution_count": 21,
   "metadata": {},
   "outputs": [],
   "source": [
    "#ques3.Sets and its default functions\n",
    "set1={1,2,8,7,9,6}\n",
    "#1)add():adds an element to the list\n",
    "set1.add(9)\n",
    "#2)clear():Removes all the elements from the list\n",
    "set1.clear()\n",
    "#3)copy():Returns a copy of the set\n",
    "set1.copy()\n",
    "#4)remove():Removes the specified element\n",
    "set1.remove(0)\n",
    "#5)pop():Removes an element from the list\n",
    "set1.pop(8)"
   ]
  },
  {
   "cell_type": "code",
   "execution_count": null,
   "metadata": {},
   "outputs": [],
   "source": [
    "#ques4.Tuple and explore default methods\n",
    "tup=(\"lal\",\"poll\",\"kanak\")\n",
    "#1)count:returns the number of times a specified value occurs in a tuple\n",
    "tup.count(\"poll\")\n",
    "#2)index():Searches the tuple for a specified value and returns the positions of where it was found\n",
    "tup.index(\"kanak\")"
   ]
  },
  {
   "cell_type": "code",
   "execution_count": null,
   "metadata": {},
   "outputs": [],
   "source": [
    "#ques5.String and Explore Default methods\n",
    "str1=\"Kasin\"\n",
    "#1)upper():converts a string into uppercase\n",
    "str1.upper()\n",
    "#2)isdigit():Returns true if all characters  in the string are digit\n",
    "str1.isdigit()\n",
    "#3)strip():Returns a trimmed version of the string\n",
    "str1.strip(\"$h\")\n",
    "#4)split():split the string at the specified seperator , and returns a list\n",
    "str1.split(\"&\")\n",
    "#5)index():returns the position of the character if which occupies \n",
    "srt1.index(\"s\")\n"
   ]
  }
 ],
 "metadata": {
  "kernelspec": {
   "display_name": "Python 3",
   "language": "python",
   "name": "python3"
  },
  "language_info": {
   "codemirror_mode": {
    "name": "ipython",
    "version": 3
   },
   "file_extension": ".py",
   "mimetype": "text/x-python",
   "name": "python",
   "nbconvert_exporter": "python",
   "pygments_lexer": "ipython3",
   "version": "3.8.3"
  }
 },
 "nbformat": 4,
 "nbformat_minor": 4
}
