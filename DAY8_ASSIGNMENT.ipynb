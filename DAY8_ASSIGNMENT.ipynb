{
 "cells": [
  {
   "cell_type": "code",
   "execution_count": null,
   "metadata": {},
   "outputs": [],
   "source": [
    "#ASSIGNMENT SOLUTIONS DAY 8"
   ]
  },
  {
   "cell_type": "code",
   "execution_count": 1,
   "metadata": {},
   "outputs": [],
   "source": [
    "#QUES 1  :write a decorator function for your taking input for you any kind of funtion you want to build,\n",
    "def inp(ar_f):\n",
    "    def getting():\n",
    "        n1=int(input(\"PLEASE ENTER THE RANGE  : \"))\n",
    "        ar_f(n)\n",
    "        return getting"
   ]
  },
  {
   "cell_type": "code",
   "execution_count": 2,
   "metadata": {},
   "outputs": [],
   "source": [
    "@inp\n",
    "def fibonaccii():\n",
    "    a=0\n",
    "    b=1\n",
    "    print('1')\n",
    "    for i in range (0,n1):\n",
    "        c=b+a\n",
    "        c=b\n",
    "        b=a\n",
    "        print(c)"
   ]
  },
  {
   "cell_type": "code",
   "execution_count": null,
   "metadata": {},
   "outputs": [],
   "source": [
    "fibonaccii()"
   ]
  },
  {
   "cell_type": "code",
   "execution_count": null,
   "metadata": {},
   "outputs": [],
   "source": []
  },
  {
   "cell_type": "code",
   "execution_count": 1,
   "metadata": {},
   "outputs": [],
   "source": [
    "\n",
    "#QUES 2  :  for this challenge you need to develop a python program to open a file into read only mode and and try writing something to it and handle the subsequent errors using Exception handling\n",
    "\n",
    "file1=open(\"myfile.txt\",\"w\")\n",
    "file1.write(\"this is a  sample file\")\n",
    "file1.close()\n"
   ]
  },
  {
   "cell_type": "code",
   "execution_count": 2,
   "metadata": {},
   "outputs": [
    {
     "name": "stdout",
     "output_type": "stream",
     "text": [
      "not writable\n",
      "Please Open your file in proper mode:)\n"
     ]
    }
   ],
   "source": [
    "try:\n",
    "    file1=open(\"myfile.txt\",\"r\")\n",
    "    file1.write(\"hello everyone\")\n",
    "except Exception as e:\n",
    "    print(e )\n",
    "    print(\"Please Open your file in proper mode:)\")\n",
    "    "
   ]
  },
  {
   "cell_type": "code",
   "execution_count": null,
   "metadata": {},
   "outputs": [],
   "source": []
  }
 ],
 "metadata": {
  "kernelspec": {
   "display_name": "Python 3",
   "language": "python",
   "name": "python3"
  },
  "language_info": {
   "codemirror_mode": {
    "name": "ipython",
    "version": 3
   },
   "file_extension": ".py",
   "mimetype": "text/x-python",
   "name": "python",
   "nbconvert_exporter": "python",
   "pygments_lexer": "ipython3",
   "version": "3.8.3"
  }
 },
 "nbformat": 4,
 "nbformat_minor": 4
}
