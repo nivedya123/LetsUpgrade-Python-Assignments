{
 "cells": [
  {
   "cell_type": "code",
   "execution_count": 2,
   "metadata": {},
   "outputs": [
    {
     "name": "stdout",
     "output_type": "stream",
     "text": [
      "1741725\n"
     ]
    }
   ],
   "source": []
  },
  {
   "cell_type": "code",
   "execution_count": 1,
   "metadata": {},
   "outputs": [
    {
     "name": "stdout",
     "output_type": "stream",
     "text": [
      "The first amstrong nuumber is - 1741725\n"
     ]
    }
   ],
   "source": [
    "#QUES:PRINT THE FIRST AMSTRONG NUMBER IN THE RANGE OF 1042000 TO 702648265 AND EXIT THE LOOP AS SOON AS YOU ENCOUTER THE FIRST AMSTRONG NUMBER\n",
    "#Answer:\n",
    "\n",
    "high=702648265\n",
    "low=1042000\n",
    "\n",
    "for num in range(low,high+1):\n",
    "    digit=len(str(num))\n",
    "    sum=0\n",
    "    t=num\n",
    "    \n",
    "    while (t>0):\n",
    "        n=t%10\n",
    "        sum+=n**digit\n",
    "        t//=10\n",
    "    if num==sum:\n",
    "        print(\"The first amstrong nuumber is -\",num)\n",
    "        break\n",
    "        "
   ]
  },
  {
   "cell_type": "code",
   "execution_count": null,
   "metadata": {},
   "outputs": [],
   "source": []
  },
  {
   "cell_type": "code",
   "execution_count": null,
   "metadata": {},
   "outputs": [],
   "source": []
  }
 ],
 "metadata": {
  "kernelspec": {
   "display_name": "Python 3",
   "language": "python",
   "name": "python3"
  },
  "language_info": {
   "codemirror_mode": {
    "name": "ipython",
    "version": 3
   },
   "file_extension": ".py",
   "mimetype": "text/x-python",
   "name": "python",
   "nbconvert_exporter": "python",
   "pygments_lexer": "ipython3",
   "version": "3.8.3"
  }
 },
 "nbformat": 4,
 "nbformat_minor": 4
}
